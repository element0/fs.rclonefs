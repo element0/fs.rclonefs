{
 "cells": [
  {
   "cell_type": "markdown",
   "id": "f834ad72-6de9-434f-a548-ade22ba5fe46",
   "metadata": {},
   "source": [
    "# RcloneFSFile"
   ]
  },
  {
   "cell_type": "code",
   "execution_count": 14,
   "id": "96bdffc2-3748-4c35-a8fd-7521db49250b",
   "metadata": {},
   "outputs": [],
   "source": [
    "import io\n",
    "import os\n",
    "import subprocess\n",
    "from fs.tempfs import TempFS\n",
    "from fs.errors import ResourceNotFound\n",
    "\n",
    "class RcloneFile(io.IOBase):\n",
    "    def __init__(self, parentfs, path, mode):\n",
    "        self.parentfs = parentfs\n",
    "        self.rclone = parentfs.rclone\n",
    "        self.path = path\n",
    "        self.mode = mode\n",
    "        self.temp_fs = parentfs.temp_fs\n",
    "        self.temp_path = f\"{os.path.basename(path)}\"\n",
    "        self.position = 0\n",
    "        if self.parentfs.exists(path):\n",
    "            self.parentfs.download(path,self.temp_fs.syspath(self.temp_path))\n",
    "        self.file = self.temp_fs.openbin(self.temp_path, mode)\n",
    "                           \n",
    "    def read(self, size=-1):\n",
    "        return self.file.read(size)\n",
    "\n",
    "    def write(self, data):\n",
    "        return self.file.write(data)\n",
    "\n",
    "    def seek(self, offset, whence=io.SEEK_SET):\n",
    "        return self.file.seek(offset, whence)\n",
    "\n",
    "    def tell(self):\n",
    "        return self.file.tell()\n",
    "\n",
    "    def close(self):\n",
    "        self.flush()\n",
    "        if self.file:\n",
    "            if 'w' in self.mode or '+' in self.mode:\n",
    "                self.parentfs.upload(self.path, self.file)\n",
    "            self.file.close()\n",
    "            self.temp_fs.remove(self.temp_path)\n",
    "            \n"
   ]
  },
  {
   "cell_type": "code",
   "execution_count": 15,
   "id": "f8de41dc-b2b7-4310-80d8-a108494f7b5d",
   "metadata": {},
   "outputs": [],
   "source": [
    "from makepy import makepy"
   ]
  },
  {
   "cell_type": "code",
   "execution_count": 16,
   "id": "103768e7-5d67-4960-84ca-854f92f1804d",
   "metadata": {},
   "outputs": [
    {
     "name": "stdout",
     "output_type": "stream",
     "text": [
      "2024/07/06 19:13:45 file\n"
     ]
    }
   ],
   "source": [
    "makepy(\"file\")"
   ]
  },
  {
   "cell_type": "code",
   "execution_count": 17,
   "id": "7ec48829-71a9-4b4b-9710-25a85837c446",
   "metadata": {},
   "outputs": [],
   "source": [
    "from rclonefs import RcloneFS"
   ]
  },
  {
   "cell_type": "code",
   "execution_count": 18,
   "id": "c948d4f1-c450-4922-a441-2cde6accdab2",
   "metadata": {},
   "outputs": [],
   "source": [
    "a = RcloneFS('dropbox:')"
   ]
  },
  {
   "cell_type": "code",
   "execution_count": 19,
   "id": "8d823f30-30c1-4aac-840c-5818c478a6bf",
   "metadata": {},
   "outputs": [
    {
     "data": {
      "text/plain": [
       "['Backup Large Vids iPh7',\n",
       " 'Camera Uploads',\n",
       " 'Cosms',\n",
       " 'INBOX',\n",
       " 'Manual Photo Uploads',\n",
       " 'More Chie Photos',\n",
       " 'Sedona',\n",
       " 'hello4.txt']"
      ]
     },
     "execution_count": 19,
     "metadata": {},
     "output_type": "execute_result"
    }
   ],
   "source": [
    "a.listdir('/')"
   ]
  },
  {
   "cell_type": "code",
   "execution_count": 72,
   "id": "5e74a309-597e-45c7-bcf0-300c6b3b9b3d",
   "metadata": {},
   "outputs": [
    {
     "name": "stdout",
     "output_type": "stream",
     "text": [
      "w in self.mode\n"
     ]
    }
   ],
   "source": [
    "f = a.openbin(\"hello4.txt\",\"w+\")"
   ]
  },
  {
   "cell_type": "code",
   "execution_count": 77,
   "id": "38d966b3-dd59-4d21-9f67-4c6df68814a9",
   "metadata": {},
   "outputs": [
    {
     "data": {
      "text/plain": [
       "b'/tmp/tmpefodt74b__tempfs__/hello4.txt'"
      ]
     },
     "execution_count": 77,
     "metadata": {},
     "output_type": "execute_result"
    }
   ],
   "source": [
    "f.file.name"
   ]
  },
  {
   "cell_type": "code",
   "execution_count": 63,
   "id": "41821a1b-6506-4f28-a5dd-b8c91bdbb275",
   "metadata": {},
   "outputs": [
    {
     "data": {
      "text/plain": [
       "30"
      ]
     },
     "execution_count": 63,
     "metadata": {},
     "output_type": "execute_result"
    }
   ],
   "source": [
    "f.write(b\"hello, there. more, and again!\")"
   ]
  },
  {
   "cell_type": "code",
   "execution_count": 61,
   "id": "77b9e5fa-249a-4dbe-952a-334d5737e2f4",
   "metadata": {},
   "outputs": [
    {
     "data": {
      "text/plain": [
       "0"
      ]
     },
     "execution_count": 61,
     "metadata": {},
     "output_type": "execute_result"
    }
   ],
   "source": [
    "f.seek(0)\n",
    "f.file.truncate()"
   ]
  },
  {
   "cell_type": "code",
   "execution_count": 75,
   "id": "04d7dac9-c354-44a4-a6c8-f8a7bd9cc691",
   "metadata": {},
   "outputs": [
    {
     "data": {
      "text/plain": [
       "0"
      ]
     },
     "execution_count": 75,
     "metadata": {},
     "output_type": "execute_result"
    }
   ],
   "source": [
    "f.seek(0)"
   ]
  },
  {
   "cell_type": "code",
   "execution_count": 67,
   "id": "a9d0e09d-e573-4aa1-84f8-91fb98c0bdf3",
   "metadata": {},
   "outputs": [],
   "source": [
    "f.flush()"
   ]
  },
  {
   "cell_type": "code",
   "execution_count": 76,
   "id": "8ad7d1f1-9189-457e-91ad-08c0f3f4c79e",
   "metadata": {},
   "outputs": [
    {
     "data": {
      "text/plain": [
       "b''"
      ]
     },
     "execution_count": 76,
     "metadata": {},
     "output_type": "execute_result"
    }
   ],
   "source": [
    "f.read()"
   ]
  },
  {
   "cell_type": "code",
   "execution_count": 68,
   "id": "6973b475-3ea3-47d7-b808-b62be30e9378",
   "metadata": {},
   "outputs": [
    {
     "name": "stdout",
     "output_type": "stream",
     "text": [
      "w in self.mode\n"
     ]
    }
   ],
   "source": [
    "f.close()"
   ]
  },
  {
   "cell_type": "code",
   "execution_count": 69,
   "id": "45b0a159-0dff-45eb-a85f-713cd68c4b8b",
   "metadata": {},
   "outputs": [
    {
     "data": {
      "text/plain": [
       "['Backup Large Vids iPh7',\n",
       " 'Camera Uploads',\n",
       " 'Cosms',\n",
       " 'INBOX',\n",
       " 'Manual Photo Uploads',\n",
       " 'More Chie Photos',\n",
       " 'Sedona',\n",
       " 'hello4.txt']"
      ]
     },
     "execution_count": 69,
     "metadata": {},
     "output_type": "execute_result"
    }
   ],
   "source": [
    "a.listdir('/')"
   ]
  },
  {
   "cell_type": "code",
   "execution_count": 18,
   "id": "0c859033-ed90-49b9-a4ee-7b2cc79ca21b",
   "metadata": {},
   "outputs": [
    {
     "data": {
      "text/plain": [
       "'dropbox:hello4.txt'"
      ]
     },
     "execution_count": 18,
     "metadata": {},
     "output_type": "execute_result"
    }
   ],
   "source": [
    "f.parentfs._path(f.path)"
   ]
  },
  {
   "cell_type": "code",
   "execution_count": 71,
   "id": "ae337e79-c198-4332-8863-19948b87422a",
   "metadata": {},
   "outputs": [
    {
     "ename": "ResourceNotFound",
     "evalue": "resource 'hello4.txt' not found",
     "output_type": "error",
     "traceback": [
      "\u001b[0;31m---------------------------------------------------------------------------\u001b[0m",
      "\u001b[0;31mFileNotFoundError\u001b[0m                         Traceback (most recent call last)",
      "File \u001b[0;32m~/Cosms/Dboy/Laydbug/dev/fs.rclonefs/_venv/lib/python3.9/site-packages/fs/osfs.py:356\u001b[0m, in \u001b[0;36mOSFS.openbin\u001b[0;34m(self, path, mode, buffering, **options)\u001b[0m\n\u001b[1;32m    355\u001b[0m         sys_path \u001b[38;5;241m=\u001b[39m os\u001b[38;5;241m.\u001b[39mopen(sys_path, os\u001b[38;5;241m.\u001b[39mO_RDWR \u001b[38;5;241m|\u001b[39m os\u001b[38;5;241m.\u001b[39mO_CREAT \u001b[38;5;241m|\u001b[39m os\u001b[38;5;241m.\u001b[39mO_EXCL)\n\u001b[0;32m--> 356\u001b[0m     binary_file \u001b[38;5;241m=\u001b[39m \u001b[43mio\u001b[49m\u001b[38;5;241;43m.\u001b[39;49m\u001b[43mopen\u001b[49m\u001b[43m(\u001b[49m\n\u001b[1;32m    357\u001b[0m \u001b[43m        \u001b[49m\u001b[43msys_path\u001b[49m\u001b[43m,\u001b[49m\u001b[43m \u001b[49m\u001b[43mmode\u001b[49m\u001b[38;5;241;43m=\u001b[39;49m\u001b[43m_mode\u001b[49m\u001b[38;5;241;43m.\u001b[39;49m\u001b[43mto_platform_bin\u001b[49m\u001b[43m(\u001b[49m\u001b[43m)\u001b[49m\u001b[43m,\u001b[49m\u001b[43m \u001b[49m\u001b[43mbuffering\u001b[49m\u001b[38;5;241;43m=\u001b[39;49m\u001b[43mbuffering\u001b[49m\u001b[43m,\u001b[49m\u001b[43m \u001b[49m\u001b[38;5;241;43m*\u001b[39;49m\u001b[38;5;241;43m*\u001b[39;49m\u001b[43moptions\u001b[49m\n\u001b[1;32m    358\u001b[0m \u001b[43m    \u001b[49m\u001b[43m)\u001b[49m\n\u001b[1;32m    359\u001b[0m \u001b[38;5;28;01mreturn\u001b[39;00m binary_file\n",
      "\u001b[0;31mFileNotFoundError\u001b[0m: [Errno 2] No such file or directory: b'/tmp/tmpefodt74b__tempfs__/hello4.txt'",
      "\nDuring handling of the above exception, another exception occurred:\n",
      "\u001b[0;31mResourceNotFound\u001b[0m                          Traceback (most recent call last)",
      "Cell \u001b[0;32mIn[71], line 1\u001b[0m\n\u001b[0;32m----> 1\u001b[0m \u001b[43ma\u001b[49m\u001b[38;5;241;43m.\u001b[39;49m\u001b[43mreadtext\u001b[49m\u001b[43m(\u001b[49m\u001b[38;5;124;43m'\u001b[39;49m\u001b[38;5;124;43mhello4.txt\u001b[39;49m\u001b[38;5;124;43m'\u001b[39;49m\u001b[43m)\u001b[49m\n",
      "File \u001b[0;32m~/Cosms/Dboy/Laydbug/dev/fs.rclonefs/_venv/lib/python3.9/site-packages/fs/base.py:693\u001b[0m, in \u001b[0;36mFS.readtext\u001b[0;34m(self, path, encoding, errors, newline)\u001b[0m\n\u001b[1;32m    668\u001b[0m \u001b[38;5;28;01mdef\u001b[39;00m \u001b[38;5;21mreadtext\u001b[39m(\n\u001b[1;32m    669\u001b[0m     \u001b[38;5;28mself\u001b[39m,\n\u001b[1;32m    670\u001b[0m     path,  \u001b[38;5;66;03m# type: Text\u001b[39;00m\n\u001b[0;32m   (...)\u001b[0m\n\u001b[1;32m    674\u001b[0m ):\n\u001b[1;32m    675\u001b[0m     \u001b[38;5;66;03m# type: (...) -> Text\u001b[39;00m\n\u001b[1;32m    676\u001b[0m \u001b[38;5;250m    \u001b[39m\u001b[38;5;124;03m\"\"\"Get the contents of a file as a string.\u001b[39;00m\n\u001b[1;32m    677\u001b[0m \n\u001b[1;32m    678\u001b[0m \u001b[38;5;124;03m    Arguments:\u001b[39;00m\n\u001b[0;32m   (...)\u001b[0m\n\u001b[1;32m    690\u001b[0m \n\u001b[1;32m    691\u001b[0m \u001b[38;5;124;03m    \"\"\"\u001b[39;00m\n\u001b[1;32m    692\u001b[0m     \u001b[38;5;28;01mwith\u001b[39;00m closing(\n\u001b[0;32m--> 693\u001b[0m         \u001b[38;5;28;43mself\u001b[39;49m\u001b[38;5;241;43m.\u001b[39;49m\u001b[43mopen\u001b[49m\u001b[43m(\u001b[49m\n\u001b[1;32m    694\u001b[0m \u001b[43m            \u001b[49m\u001b[43mpath\u001b[49m\u001b[43m,\u001b[49m\u001b[43m \u001b[49m\u001b[43mmode\u001b[49m\u001b[38;5;241;43m=\u001b[39;49m\u001b[38;5;124;43m\"\u001b[39;49m\u001b[38;5;124;43mrt\u001b[39;49m\u001b[38;5;124;43m\"\u001b[39;49m\u001b[43m,\u001b[49m\u001b[43m \u001b[49m\u001b[43mencoding\u001b[49m\u001b[38;5;241;43m=\u001b[39;49m\u001b[43mencoding\u001b[49m\u001b[43m,\u001b[49m\u001b[43m \u001b[49m\u001b[43merrors\u001b[49m\u001b[38;5;241;43m=\u001b[39;49m\u001b[43merrors\u001b[49m\u001b[43m,\u001b[49m\u001b[43m \u001b[49m\u001b[43mnewline\u001b[49m\u001b[38;5;241;43m=\u001b[39;49m\u001b[43mnewline\u001b[49m\n\u001b[1;32m    695\u001b[0m \u001b[43m        \u001b[49m\u001b[43m)\u001b[49m\n\u001b[1;32m    696\u001b[0m     ) \u001b[38;5;28;01mas\u001b[39;00m read_file:\n\u001b[1;32m    697\u001b[0m         contents \u001b[38;5;241m=\u001b[39m read_file\u001b[38;5;241m.\u001b[39mread()\n\u001b[1;32m    698\u001b[0m     \u001b[38;5;28;01mreturn\u001b[39;00m contents\n",
      "File \u001b[0;32m~/Cosms/Dboy/Laydbug/dev/fs.rclonefs/_venv/lib/python3.9/site-packages/fs/base.py:1228\u001b[0m, in \u001b[0;36mFS.open\u001b[0;34m(self, path, mode, buffering, encoding, errors, newline, **options)\u001b[0m\n\u001b[1;32m   1226\u001b[0m validate_open_mode(mode)\n\u001b[1;32m   1227\u001b[0m bin_mode \u001b[38;5;241m=\u001b[39m mode\u001b[38;5;241m.\u001b[39mreplace(\u001b[38;5;124m\"\u001b[39m\u001b[38;5;124mt\u001b[39m\u001b[38;5;124m\"\u001b[39m, \u001b[38;5;124m\"\u001b[39m\u001b[38;5;124m\"\u001b[39m)\n\u001b[0;32m-> 1228\u001b[0m bin_file \u001b[38;5;241m=\u001b[39m \u001b[38;5;28;43mself\u001b[39;49m\u001b[38;5;241;43m.\u001b[39;49m\u001b[43mopenbin\u001b[49m\u001b[43m(\u001b[49m\u001b[43mpath\u001b[49m\u001b[43m,\u001b[49m\u001b[43m \u001b[49m\u001b[43mmode\u001b[49m\u001b[38;5;241;43m=\u001b[39;49m\u001b[43mbin_mode\u001b[49m\u001b[43m,\u001b[49m\u001b[43m \u001b[49m\u001b[43mbuffering\u001b[49m\u001b[38;5;241;43m=\u001b[39;49m\u001b[43mbuffering\u001b[49m\u001b[43m)\u001b[49m\n\u001b[1;32m   1229\u001b[0m io_stream \u001b[38;5;241m=\u001b[39m iotools\u001b[38;5;241m.\u001b[39mmake_stream(\n\u001b[1;32m   1230\u001b[0m     path,\n\u001b[1;32m   1231\u001b[0m     bin_file,\n\u001b[0;32m   (...)\u001b[0m\n\u001b[1;32m   1237\u001b[0m     \u001b[38;5;241m*\u001b[39m\u001b[38;5;241m*\u001b[39moptions\n\u001b[1;32m   1238\u001b[0m )\n\u001b[1;32m   1239\u001b[0m \u001b[38;5;28;01mreturn\u001b[39;00m io_stream\n",
      "File \u001b[0;32m~/Cosms/Dboy/Laydbug/dev/fs.rclonefs/src/fs/rclonefs/rclonefs.py:221\u001b[0m, in \u001b[0;36mRcloneFS.openbin\u001b[0;34m(self, path, mode, buffering, **options)\u001b[0m\n\u001b[1;32m    219\u001b[0m \u001b[38;5;28;01mdef\u001b[39;00m \u001b[38;5;21mopenbin\u001b[39m(\u001b[38;5;28mself\u001b[39m, path: \u001b[38;5;28mstr\u001b[39m, mode\u001b[38;5;241m=\u001b[39m\u001b[38;5;124m\"\u001b[39m\u001b[38;5;124mr\u001b[39m\u001b[38;5;124m\"\u001b[39m, buffering\u001b[38;5;241m=\u001b[39m\u001b[38;5;241m-\u001b[39m\u001b[38;5;241m1\u001b[39m, \u001b[38;5;241m*\u001b[39m\u001b[38;5;241m*\u001b[39moptions):\n\u001b[1;32m    220\u001b[0m     path \u001b[38;5;241m=\u001b[39m normpath(path)\n\u001b[0;32m--> 221\u001b[0m     \u001b[38;5;28;01mreturn\u001b[39;00m \u001b[43mRcloneFile\u001b[49m\u001b[43m(\u001b[49m\u001b[38;5;28;43mself\u001b[39;49m\u001b[43m,\u001b[49m\u001b[43m \u001b[49m\u001b[43mpath\u001b[49m\u001b[43m,\u001b[49m\u001b[43m \u001b[49m\u001b[43mmode\u001b[49m\u001b[43m)\u001b[49m\n",
      "File \u001b[0;32m~/Cosms/Dboy/Laydbug/dev/fs.rclonefs/src/fs/rclonefs/file.py:17\u001b[0m, in \u001b[0;36mRcloneFile.__init__\u001b[0;34m(self, parentfs, path, mode)\u001b[0m\n\u001b[1;32m     15\u001b[0m \u001b[38;5;28mself\u001b[39m\u001b[38;5;241m.\u001b[39mposition \u001b[38;5;241m=\u001b[39m \u001b[38;5;241m0\u001b[39m\n\u001b[1;32m     16\u001b[0m \u001b[38;5;28;01mif\u001b[39;00m \u001b[38;5;28mself\u001b[39m\u001b[38;5;241m.\u001b[39mparentfs\u001b[38;5;241m.\u001b[39mexists(path):\n\u001b[0;32m---> 17\u001b[0m     \u001b[38;5;28mself\u001b[39m\u001b[38;5;241m.\u001b[39mparentfs\u001b[38;5;241m.\u001b[39mdownload(path,\u001b[38;5;28mself\u001b[39m\u001b[38;5;241m.\u001b[39mtemp_fs\u001b[38;5;241m.\u001b[39msyspath(\u001b[38;5;28mself\u001b[39m\u001b[38;5;241m.\u001b[39mtemp_path))\n\u001b[1;32m     18\u001b[0m \u001b[38;5;28mself\u001b[39m\u001b[38;5;241m.\u001b[39mfile \u001b[38;5;241m=\u001b[39m \u001b[38;5;28mself\u001b[39m\u001b[38;5;241m.\u001b[39mtemp_fs\u001b[38;5;241m.\u001b[39mopenbin(\u001b[38;5;28mself\u001b[39m\u001b[38;5;241m.\u001b[39mtemp_path, mode)\n",
      "File \u001b[0;32m~/Cosms/Dboy/Laydbug/dev/fs.rclonefs/_venv/lib/python3.9/site-packages/fs/osfs.py:356\u001b[0m, in \u001b[0;36mOSFS.openbin\u001b[0;34m(self, path, mode, buffering, **options)\u001b[0m\n\u001b[1;32m    354\u001b[0m     \u001b[38;5;28;01mif\u001b[39;00m six\u001b[38;5;241m.\u001b[39mPY2 \u001b[38;5;129;01mand\u001b[39;00m _mode\u001b[38;5;241m.\u001b[39mexclusive:\n\u001b[1;32m    355\u001b[0m         sys_path \u001b[38;5;241m=\u001b[39m os\u001b[38;5;241m.\u001b[39mopen(sys_path, os\u001b[38;5;241m.\u001b[39mO_RDWR \u001b[38;5;241m|\u001b[39m os\u001b[38;5;241m.\u001b[39mO_CREAT \u001b[38;5;241m|\u001b[39m os\u001b[38;5;241m.\u001b[39mO_EXCL)\n\u001b[0;32m--> 356\u001b[0m     binary_file \u001b[38;5;241m=\u001b[39m io\u001b[38;5;241m.\u001b[39mopen(\n\u001b[1;32m    357\u001b[0m         sys_path, mode\u001b[38;5;241m=\u001b[39m_mode\u001b[38;5;241m.\u001b[39mto_platform_bin(), buffering\u001b[38;5;241m=\u001b[39mbuffering, \u001b[38;5;241m*\u001b[39m\u001b[38;5;241m*\u001b[39moptions\n\u001b[1;32m    358\u001b[0m     )\n\u001b[1;32m    359\u001b[0m \u001b[38;5;28;01mreturn\u001b[39;00m binary_file\n",
      "File \u001b[0;32m~/Cosms/Dboy/Laydbug/dev/fs.rclonefs/_venv/lib/python3.9/site-packages/fs/error_tools.py:89\u001b[0m, in \u001b[0;36m_ConvertOSErrors.__exit__\u001b[0;34m(self, exc_type, exc_value, traceback)\u001b[0m\n\u001b[1;32m     87\u001b[0m     \u001b[38;5;28;01mif\u001b[39;00m \u001b[38;5;28mgetattr\u001b[39m(exc_value, \u001b[38;5;124m\"\u001b[39m\u001b[38;5;124margs\u001b[39m\u001b[38;5;124m\"\u001b[39m, \u001b[38;5;28;01mNone\u001b[39;00m) \u001b[38;5;241m==\u001b[39m \u001b[38;5;241m32\u001b[39m:  \u001b[38;5;66;03m# pragma: no cover\u001b[39;00m\n\u001b[1;32m     88\u001b[0m         fserror \u001b[38;5;241m=\u001b[39m errors\u001b[38;5;241m.\u001b[39mResourceLocked\n\u001b[0;32m---> 89\u001b[0m \u001b[43mreraise\u001b[49m\u001b[43m(\u001b[49m\u001b[43mfserror\u001b[49m\u001b[43m,\u001b[49m\u001b[43m \u001b[49m\u001b[43mfserror\u001b[49m\u001b[43m(\u001b[49m\u001b[38;5;28;43mself\u001b[39;49m\u001b[38;5;241;43m.\u001b[39;49m\u001b[43m_path\u001b[49m\u001b[43m,\u001b[49m\u001b[43m \u001b[49m\u001b[43mexc\u001b[49m\u001b[38;5;241;43m=\u001b[39;49m\u001b[43mexc_value\u001b[49m\u001b[43m)\u001b[49m\u001b[43m,\u001b[49m\u001b[43m \u001b[49m\u001b[43mtraceback\u001b[49m\u001b[43m)\u001b[49m\n",
      "File \u001b[0;32m~/Cosms/Dboy/Laydbug/dev/fs.rclonefs/_venv/lib/python3.9/site-packages/six.py:718\u001b[0m, in \u001b[0;36mreraise\u001b[0;34m(tp, value, tb)\u001b[0m\n\u001b[1;32m    716\u001b[0m         value \u001b[38;5;241m=\u001b[39m tp()\n\u001b[1;32m    717\u001b[0m     \u001b[38;5;28;01mif\u001b[39;00m value\u001b[38;5;241m.\u001b[39m__traceback__ \u001b[38;5;129;01mis\u001b[39;00m \u001b[38;5;129;01mnot\u001b[39;00m tb:\n\u001b[0;32m--> 718\u001b[0m         \u001b[38;5;28;01mraise\u001b[39;00m value\u001b[38;5;241m.\u001b[39mwith_traceback(tb)\n\u001b[1;32m    719\u001b[0m     \u001b[38;5;28;01mraise\u001b[39;00m value\n\u001b[1;32m    720\u001b[0m \u001b[38;5;28;01mfinally\u001b[39;00m:\n",
      "File \u001b[0;32m~/Cosms/Dboy/Laydbug/dev/fs.rclonefs/_venv/lib/python3.9/site-packages/fs/osfs.py:356\u001b[0m, in \u001b[0;36mOSFS.openbin\u001b[0;34m(self, path, mode, buffering, **options)\u001b[0m\n\u001b[1;32m    354\u001b[0m     \u001b[38;5;28;01mif\u001b[39;00m six\u001b[38;5;241m.\u001b[39mPY2 \u001b[38;5;129;01mand\u001b[39;00m _mode\u001b[38;5;241m.\u001b[39mexclusive:\n\u001b[1;32m    355\u001b[0m         sys_path \u001b[38;5;241m=\u001b[39m os\u001b[38;5;241m.\u001b[39mopen(sys_path, os\u001b[38;5;241m.\u001b[39mO_RDWR \u001b[38;5;241m|\u001b[39m os\u001b[38;5;241m.\u001b[39mO_CREAT \u001b[38;5;241m|\u001b[39m os\u001b[38;5;241m.\u001b[39mO_EXCL)\n\u001b[0;32m--> 356\u001b[0m     binary_file \u001b[38;5;241m=\u001b[39m \u001b[43mio\u001b[49m\u001b[38;5;241;43m.\u001b[39;49m\u001b[43mopen\u001b[49m\u001b[43m(\u001b[49m\n\u001b[1;32m    357\u001b[0m \u001b[43m        \u001b[49m\u001b[43msys_path\u001b[49m\u001b[43m,\u001b[49m\u001b[43m \u001b[49m\u001b[43mmode\u001b[49m\u001b[38;5;241;43m=\u001b[39;49m\u001b[43m_mode\u001b[49m\u001b[38;5;241;43m.\u001b[39;49m\u001b[43mto_platform_bin\u001b[49m\u001b[43m(\u001b[49m\u001b[43m)\u001b[49m\u001b[43m,\u001b[49m\u001b[43m \u001b[49m\u001b[43mbuffering\u001b[49m\u001b[38;5;241;43m=\u001b[39;49m\u001b[43mbuffering\u001b[49m\u001b[43m,\u001b[49m\u001b[43m \u001b[49m\u001b[38;5;241;43m*\u001b[39;49m\u001b[38;5;241;43m*\u001b[39;49m\u001b[43moptions\u001b[49m\n\u001b[1;32m    358\u001b[0m \u001b[43m    \u001b[49m\u001b[43m)\u001b[49m\n\u001b[1;32m    359\u001b[0m \u001b[38;5;28;01mreturn\u001b[39;00m binary_file\n",
      "\u001b[0;31mResourceNotFound\u001b[0m: resource 'hello4.txt' not found"
     ]
    }
   ],
   "source": [
    "a.readtext('hello4.txt')"
   ]
  },
  {
   "cell_type": "code",
   "execution_count": null,
   "id": "3b05676a-1174-42f1-a167-175b8ae46d6f",
   "metadata": {},
   "outputs": [],
   "source": []
  }
 ],
 "metadata": {
  "kernelspec": {
   "display_name": "_venv",
   "language": "python",
   "name": "_venv"
  },
  "language_info": {
   "codemirror_mode": {
    "name": "ipython",
    "version": 3
   },
   "file_extension": ".py",
   "mimetype": "text/x-python",
   "name": "python",
   "nbconvert_exporter": "python",
   "pygments_lexer": "ipython3",
   "version": "3.9.5"
  }
 },
 "nbformat": 4,
 "nbformat_minor": 5
}
